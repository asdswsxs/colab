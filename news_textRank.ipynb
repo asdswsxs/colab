{
  "nbformat": 4,
  "nbformat_minor": 0,
  "metadata": {
    "colab": {
      "name": "news_textRank.ipynb",
      "provenance": [],
      "collapsed_sections": []
    },
    "kernelspec": {
      "name": "python3",
      "display_name": "Python 3"
    }
  },
  "cells": [
    {
      "cell_type": "code",
      "metadata": {
        "id": "FkmkxnyMxEUa"
      },
      "source": [
        "a = open(\"/content/drive/MyDrive/Colab Notebooks/news.txt\")\n",
        "b = open(\"./test.txt\",\"w\")\n",
        "for line in a.readlines():\n",
        "  i = line.replace(\" \\ n\",\"\")\n",
        "  b.write(i)\n",
        "b.close()"
      ],
      "execution_count": null,
      "outputs": []
    },
    {
      "cell_type": "code",
      "metadata": {
        "id": "t_WGcQ8OUpUU"
      },
      "source": [
        "import pandas as pd\n",
        "from gensim.models import word2vec\n",
        "from gensim.models.word2vec import Word2Vec\n",
        "from gensim.models import KeyedVectors\n",
        "\n",
        "sentences = word2vec.LineSentence(\"/content/test.txt\")\n"
      ],
      "execution_count": null,
      "outputs": []
    },
    {
      "cell_type": "code",
      "metadata": {
        "id": "JrSWxk9VbNGB"
      },
      "source": [
        "class MySentences(object):\n",
        "    def __init__(self, filename):\n",
        "        self.filename = filename\n",
        "\n",
        "    def __iter__(self):\n",
        "        for line in open(self.filename):\n",
        "            yield line.split()\n",
        "\n",
        "sentences = MySentences(\"/content/drive/MyDrive/Colab Notebooks/news.txt\")"
      ],
      "execution_count": null,
      "outputs": []
    },
    {
      "cell_type": "code",
      "metadata": {
        "id": "2G_5YA5EZB2m"
      },
      "source": [
        "model: Word2Vec = Word2Vec(\n",
        "    sentences=sentences,\n",
        "    size=200,\n",
        "    window=10,\n",
        "    sg=1,\n",
        "    iter=10,\n",
        "    min_count=3\n",
        ")\n",
        "model.save(\"./news_word2vec.model\")"
      ],
      "execution_count": null,
      "outputs": []
    },
    {
      "cell_type": "code",
      "metadata": {
        "id": "Vlk8Cq2sZQhr"
      },
      "source": [
        "model = Word2Vec.load(\"/content/drive/MyDrive/Colab Notebooks/news_word2vec.model\")\n",
        "print(model.wv[\"富士通\"])"
      ],
      "execution_count": null,
      "outputs": []
    },
    {
      "cell_type": "markdown",
      "metadata": {
        "id": "__CNZeE3hzoG"
      },
      "source": [
        "to-do\n",
        "\n",
        "グローバルパラメータ　N,file \n",
        "\n",
        "not in vocabulary 的异常处理\n",
        "\n",
        "git管理知识\n"
      ]
    },
    {
      "cell_type": "code",
      "metadata": {
        "colab": {
          "base_uri": "https://localhost:8080/"
        },
        "id": "_MC4p-F2srRE",
        "outputId": "db725c25-bceb-4b6a-a7bb-6592711bf3f3"
      },
      "source": [
        "a = open(\"/content/drive/MyDrive/Colab Notebooks/news.txt\",\"r\")\n",
        "sentence_word_list = []\n",
        "for sentence in a.readlines():\n",
        "    line_seg = sentence\n",
        "    sentence_word_list.append(line_seg)\n",
        "print(\"一共有\",len(sentence_word_list),'个句子。\\n')\n",
        "print(sentence_word_list[1])"
      ],
      "execution_count": null,
      "outputs": [
        {
          "output_type": "stream",
          "text": [
            "一共有 9924 个句子。\n",
            "\n",
            "ON Semiconductor ( オン・セミコンダクター ) は 8月8日 ( 米国時間 ) 新潟県小千谷市 に ある 新潟 工場 ( 元 三洋電機 の 子会社 の 三洋半導体 の 新潟 工場 ) の 売却 を 検討 し て いる こと を 正式 発表 し た  同社 は  すでに 売却 先 の 調査 を スタート し て いる と いう  同社 に よる と  新潟 工場 の 売却 は  製造 拠点 を 最適 化 し  高度 に 差別 化 さ れ た パワー  アナログ  センサ 製品 へ の 注力 を 強化 する という 同社 の 製造 拠点 再編 計画 の 一部 だ と し て いる  同社 は  2020年 2月 に ベルギー に ある 6インチ ( 150m m ) ファブ の 売却 を 検討 し て いる こと を 発表 し て おり  レガシーファブ を 処分 し  レガシーデバイス の 製造 を 売却 先 に 任せ て  成長 著しい 分野 の デバイス に 注力 する 戦略 が 鮮明 に し て いる よう だ  新潟 工場 は  もともと 三洋電機 グループ の 中心 的 な 半導体 工場 だっ た が  ON Semiconductor が 2011年 に 三洋電機 および 同 グループ会社 の 半導体事業 資産 を 一括 し て 買収 し た  同 工場 は  車載 品質 の 認定 を 受け た 施設 で あり  品質管理 に関する グローバルな 業界 基準 で ある IATF 16949 に 適合 し て いる  同 敷地内 に 約 2 万 m 2 の クリーンルーム スペース を 備え た 2つ の 前 工程 ファブ を 有し て おり  約 16 万 m 2 の 敷地内 に 約 10万 2000m 2 の 建屋 を 所有 し て いる  現在  同社 は 新潟 工場 で 同社 の BCD  BiCMOS  CMOS  ディスクリート 半導体 を 製造 し て いる  ON Semiconductor は  日本 から 撤退 する わけ で は ない として  福島県会津若松市 に ある 会津 工場 ( 元 富士通セミコンダクター ) の 8インチ ウェハ 製造 ライン を 増強 し た こと を 強調 し て いる  同社 は  2018年 に 富士通 の 孫会社 だっ た 会津 富士通セミコンダクター マニュファクチャリング の 出資比率 を 60% に 引き上げ て 社名 を オン・セミコンダクター 会津 に 変更 し た  半導体 業界 関係 者 に よる と  「 本来 なら 売却 先 が 決まっ て から 発表 する の が 通例 だ が  国内 で 売却 先 が 簡単 に は 決まら ず  世界 に 向け て 売却 先 を 募集 し 始め た よう で  従業員 の 雇用 継続 や 既存 顧客 へ の 継続 的 な 製品 供給 を 売却 の 条件 に し て いる 模様 で ある  今年2月 に 売り に 出さ れ た ベルギー の 同社 レガシーファブ も 同様 な 条件 で ある が  この 条件 で の レガシーファブ 売却 は 容易 で は ない よう だ 」 と いう  なお  同 工場 で は  ON Semiconductor が 世界 トップ シェア を 握る 車載 CMOSイメージセンサ は 製造 し て い ない  \n",
            "\n"
          ],
          "name": "stdout"
        }
      ]
    },
    {
      "cell_type": "code",
      "metadata": {
        "id": "1m0FvXewuDaT"
      },
      "source": [
        "#get sentenceの埋め込み表現\n",
        "def get_vector(text):\n",
        "  sum_vec =np.zeros(200)\n",
        "  word_count = 0\n",
        "  node = mt.parse(text)\n",
        "  #print(node)\n",
        "  for word in node.split():\n",
        "    #print(word)\n",
        "    sum_vec +=m[word]\n",
        "    word_count += 1\n",
        "    #word = word.next\n"
      ],
      "execution_count": null,
      "outputs": []
    },
    {
      "cell_type": "code",
      "metadata": {
        "id": "6ID0dBtcMKkb"
      },
      "source": [
        "sentence_vectors = []\n",
        "for i in a.readlines():\n",
        "  #print(get_vector(i))\n",
        "  sentence_vectors.append(get_vector(i))"
      ],
      "execution_count": null,
      "outputs": []
    },
    {
      "cell_type": "code",
      "metadata": {
        "id": "OlyS1czvMNPl"
      },
      "source": [
        "sim_mat = np.zeros([13,13])#get news len\n",
        "\n",
        "from sklearn.metrics.pairwise import cosine_similarity\n",
        "\n",
        "for i in range(13):\n",
        "  for j in range(13):\n",
        "    if i != j:\n",
        "      sim_mat[i][j] = cosine_similarity(sentence_vectors[i].reshape(1,200), sentence_vectors[j].reshape(1,200))[0,0]\n",
        "print(sim_mat.shape)"
      ],
      "execution_count": null,
      "outputs": []
    },
    {
      "cell_type": "code",
      "metadata": {
        "id": "9a3eeT3sNOuy"
      },
      "source": [
        "import networkx as nx\n",
        "\n",
        "# 利用句子相似度矩阵构建图结构，句子为节点，句子相似度为转移概率\n",
        "nx_graph = nx.from_numpy_array(sim_mat)\n",
        "\n",
        "# 得到所有句子的textrank值\n",
        "scores = nx.pagerank(nx_graph)\n",
        "\n",
        "# 根据textrank值对未处理的句子进行排序\n",
        "ranked_sentences = sorted(((scores[i],s) for i,s in enumerate(sentence_word_list)), reverse=True)\n",
        "\n",
        "# 取出得分最高的前10个句子作为摘要\n",
        "sn = 3\n",
        "for i in range(sn):\n",
        "    print(\"第\"+str(i+1)+\"条摘要：\\n\\n\",ranked_sentences[i][1],'\\n')"
      ],
      "execution_count": null,
      "outputs": []
    }
  ]
}