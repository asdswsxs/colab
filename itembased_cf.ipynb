{
  "nbformat": 4,
  "nbformat_minor": 0,
  "metadata": {
    "colab": {
      "name": "itembased_cf.ipynb",
      "provenance": [],
      "collapsed_sections": []
    },
    "kernelspec": {
      "name": "python3",
      "display_name": "Python 3"
    }
  },
  "cells": [
    {
      "cell_type": "markdown",
      "metadata": {
        "id": "RUbwdIAtYMkp"
      },
      "source": [
        "### アイテムベース協調フィルタリング\n",
        "今回は1）jaccard指数を用いたレコメンドと2）コサイン類似度を用いたレコメンドの2種類で実験"
      ]
    },
    {
      "cell_type": "code",
      "metadata": {
        "id": "-f3awDhrYKC-"
      },
      "source": [
        "import numpy as np\n",
        "import pandas as pd\n",
        "from tqdm import tqdm\n",
        "from sklearn.metrics.pairwise import pairwise_distances"
      ],
      "execution_count": null,
      "outputs": []
    },
    {
      "cell_type": "markdown",
      "metadata": {
        "id": "HqEWZX59Yjuc"
      },
      "source": [
        "#### データセットの内容確認"
      ]
    },
    {
      "cell_type": "code",
      "metadata": {
        "id": "09HBLEG7YKIR",
        "colab": {
          "base_uri": "https://localhost:8080/",
          "height": 204
        },
        "outputId": "70eefe8e-1cf9-4ace-eaf5-f61cd651e690"
      },
      "source": [
        "u_data_org = pd.read_csv(\n",
        "   'http://files.grouplens.org/datasets/movielens/ml-100k/u.data', names=[\"user_id\", \"item_id\", \"rating\", \"timestamp\"], sep=\"\\t\")\n",
        "u_data_org.head()"
      ],
      "execution_count": null,
      "outputs": [
        {
          "output_type": "execute_result",
          "data": {
            "text/html": [
              "<div>\n",
              "<style scoped>\n",
              "    .dataframe tbody tr th:only-of-type {\n",
              "        vertical-align: middle;\n",
              "    }\n",
              "\n",
              "    .dataframe tbody tr th {\n",
              "        vertical-align: top;\n",
              "    }\n",
              "\n",
              "    .dataframe thead th {\n",
              "        text-align: right;\n",
              "    }\n",
              "</style>\n",
              "<table border=\"1\" class=\"dataframe\">\n",
              "  <thead>\n",
              "    <tr style=\"text-align: right;\">\n",
              "      <th></th>\n",
              "      <th>user_id</th>\n",
              "      <th>item_id</th>\n",
              "      <th>rating</th>\n",
              "      <th>timestamp</th>\n",
              "    </tr>\n",
              "  </thead>\n",
              "  <tbody>\n",
              "    <tr>\n",
              "      <th>0</th>\n",
              "      <td>196</td>\n",
              "      <td>242</td>\n",
              "      <td>3</td>\n",
              "      <td>881250949</td>\n",
              "    </tr>\n",
              "    <tr>\n",
              "      <th>1</th>\n",
              "      <td>186</td>\n",
              "      <td>302</td>\n",
              "      <td>3</td>\n",
              "      <td>891717742</td>\n",
              "    </tr>\n",
              "    <tr>\n",
              "      <th>2</th>\n",
              "      <td>22</td>\n",
              "      <td>377</td>\n",
              "      <td>1</td>\n",
              "      <td>878887116</td>\n",
              "    </tr>\n",
              "    <tr>\n",
              "      <th>3</th>\n",
              "      <td>244</td>\n",
              "      <td>51</td>\n",
              "      <td>2</td>\n",
              "      <td>880606923</td>\n",
              "    </tr>\n",
              "    <tr>\n",
              "      <th>4</th>\n",
              "      <td>166</td>\n",
              "      <td>346</td>\n",
              "      <td>1</td>\n",
              "      <td>886397596</td>\n",
              "    </tr>\n",
              "  </tbody>\n",
              "</table>\n",
              "</div>"
            ],
            "text/plain": [
              "   user_id  item_id  rating  timestamp\n",
              "0      196      242       3  881250949\n",
              "1      186      302       3  891717742\n",
              "2       22      377       1  878887116\n",
              "3      244       51       2  880606923\n",
              "4      166      346       1  886397596"
            ]
          },
          "metadata": {
            "tags": []
          },
          "execution_count": 38
        }
      ]
    },
    {
      "cell_type": "markdown",
      "metadata": {
        "id": "6TYrAvvxiSzk"
      },
      "source": [
        "#### 学習用・テスト用データの取り込み"
      ]
    },
    {
      "cell_type": "code",
      "metadata": {
        "id": "IDCmDLr-YKOR",
        "colab": {
          "base_uri": "https://localhost:8080/",
          "height": 204
        },
        "outputId": "6c9ce7e3-9f2d-4bf3-f22e-ffa78122d50e"
      },
      "source": [
        "# ユーザ×評価値のデータ\n",
        "u_data_train = pd.read_csv(\n",
        "   'http://files.grouplens.org/datasets/movielens/ml-100k/ua.base', names=[\"user_id\", \"item_id\", \"rating\", \"timestamp\"], sep=\"\\t\")\n",
        "u_data_test = pd.read_csv(\n",
        "   'http://files.grouplens.org/datasets/movielens/ml-100k/ua.test', names=[\"user_id\", \"item_id\", \"rating\", \"timestamp\"], sep=\"\\t\")\n",
        "\n",
        "# 件数の確認\n",
        "train_cnt = u_data_train.count()\n",
        "test_cnt = u_data_test.count()\n",
        "print('Train Set:', str(train_cnt), '\\n')\n",
        "print('Test Set:', str(test_cnt))"
      ],
      "execution_count": null,
      "outputs": [
        {
          "output_type": "stream",
          "text": [
            "Train Set: user_id      90570\n",
            "item_id      90570\n",
            "rating       90570\n",
            "timestamp    90570\n",
            "dtype: int64 \n",
            "\n",
            "Test Set: user_id      9430\n",
            "item_id      9430\n",
            "rating       9430\n",
            "timestamp    9430\n",
            "dtype: int64\n"
          ],
          "name": "stdout"
        }
      ]
    },
    {
      "cell_type": "markdown",
      "metadata": {
        "id": "-9o9T64RiYnd"
      },
      "source": [
        "#### データをitem_id × user_idの行列へ整形"
      ]
    },
    {
      "cell_type": "code",
      "metadata": {
        "id": "XNR-99AwgYKc",
        "colab": {
          "base_uri": "https://localhost:8080/",
          "height": 34
        },
        "outputId": "370f298e-677d-4481-cf32-6a65da1292cb"
      },
      "source": [
        "# item_id x user_idの行列に変換する\n",
        "item_list = u_data_org.sort_values('item_id').item_id.unique()\n",
        "user_list = u_data_org.user_id.unique()\n",
        "rating_matrix_item = np.zeros([len(item_list), len(user_list)])\n",
        "\n",
        "for item_id in tqdm(range(1, len(item_list))):\n",
        "    user_list_item = u_data_train[u_data_train['item_id'] == item_id].sort_values('user_id').user_id.unique()\n",
        "    for user_id in user_list_item:\n",
        "        try:\n",
        "            user_rate = u_data_train[(u_data_train['item_id'] == item_id) & (u_data_train['user_id'] == user_id)].loc[:, 'rating']\n",
        "        except:\n",
        "            user_rate = 0\n",
        "        rating_matrix_item[item_id-1, user_id-1] = user_rate\n"
      ],
      "execution_count": null,
      "outputs": [
        {
          "output_type": "stream",
          "text": [
            "100%|██████████| 1681/1681 [01:59<00:00, 14.05it/s] \n"
          ],
          "name": "stderr"
        }
      ]
    },
    {
      "cell_type": "code",
      "metadata": {
        "id": "DEoQ5XHVgYNj",
        "colab": {
          "base_uri": "https://localhost:8080/",
          "height": 136
        },
        "outputId": "844a3180-e88e-4e5e-a70f-1f2b36aba48c"
      },
      "source": [
        "rating_matrix_item"
      ],
      "execution_count": null,
      "outputs": [
        {
          "output_type": "execute_result",
          "data": {
            "text/plain": [
              "array([[5., 4., 0., ..., 5., 0., 0.],\n",
              "       [3., 0., 0., ..., 0., 0., 5.],\n",
              "       [4., 0., 0., ..., 0., 0., 0.],\n",
              "       ...,\n",
              "       [0., 0., 0., ..., 0., 0., 0.],\n",
              "       [0., 0., 0., ..., 0., 0., 0.],\n",
              "       [0., 0., 0., ..., 0., 0., 0.]])"
            ]
          },
          "metadata": {
            "tags": []
          },
          "execution_count": 41
        }
      ]
    },
    {
      "cell_type": "code",
      "metadata": {
        "id": "-P540wPXnZIR"
      },
      "source": [
        "# 本当はこんなオブジェクト使わなくてもいけると思うのですがいいやり方が浮かばず…。いい方法あれば教えてください。\n",
        "\n",
        "# item x userの評価したかどうか{0, 1}がわかる行列作成\n",
        "rating_matrix_calc = rating_matrix_item.copy()\n",
        "rating_matrix_calc[rating_matrix_calc != 0] = 1\n",
        "# 評価していないアイテムに1が立つ行列を作成。後で使う\n",
        "rating_matrix_train = np.abs(rating_matrix_calc - 1)"
      ],
      "execution_count": null,
      "outputs": []
    },
    {
      "cell_type": "markdown",
      "metadata": {
        "id": "FWa-bvV0mWRs"
      },
      "source": [
        "### 類似度行列の計算"
      ]
    },
    {
      "cell_type": "code",
      "metadata": {
        "id": "odshD5W3gYRU",
        "colab": {
          "base_uri": "https://localhost:8080/",
          "height": 71
        },
        "outputId": "f1f7c623-a1c8-4184-d02c-051175a54ea2"
      },
      "source": [
        "# おとなしくpairwise_distanceを使う\n",
        "\n",
        "# コサイン\n",
        "similarity_matrix = 1 - pairwise_distances(rating_matrix_item, metric='cosine')\n",
        "\n",
        "# jaccard\n",
        "similarity_matrix = 1 - pairwise_distances(rating_matrix_item, metric='jaccard')\n",
        "\n",
        "# 対角成分の値はゼロにする\n",
        "np.fill_diagonal(similarity_matrix, 0)"
      ],
      "execution_count": null,
      "outputs": [
        {
          "output_type": "stream",
          "text": [
            "/usr/local/lib/python3.6/dist-packages/sklearn/utils/validation.py:595: DataConversionWarning: Data with input dtype float64 was converted to bool by check_pairwise_arrays.\n",
            "  warnings.warn(msg, DataConversionWarning)\n"
          ],
          "name": "stderr"
        }
      ]
    },
    {
      "cell_type": "code",
      "metadata": {
        "id": "lgHWQ-7QmVko",
        "colab": {
          "base_uri": "https://localhost:8080/",
          "height": 238
        },
        "outputId": "4ce8d6e6-abed-4b14-d96a-33594ffb1a7d"
      },
      "source": [
        "similarity_matrix"
      ],
      "execution_count": null,
      "outputs": [
        {
          "output_type": "execute_result",
          "data": {
            "text/plain": [
              "array([[0.        , 0.22142857, 0.17199017, ..., 0.        , 0.00255102,\n",
              "        0.        ],\n",
              "       [0.22142857, 0.        , 0.17045455, ..., 0.        , 0.00826446,\n",
              "        0.        ],\n",
              "       [0.17199017, 0.17045455, 0.        , ..., 0.        , 0.        ,\n",
              "        0.        ],\n",
              "       ...,\n",
              "       [0.        , 0.        , 0.        , ..., 0.        , 0.        ,\n",
              "        0.        ],\n",
              "       [0.00255102, 0.00826446, 0.        , ..., 0.        , 0.        ,\n",
              "        0.        ],\n",
              "       [0.        , 0.        , 0.        , ..., 0.        , 0.        ,\n",
              "        0.        ]])"
            ]
          },
          "metadata": {
            "tags": []
          },
          "execution_count": 44
        }
      ]
    },
    {
      "cell_type": "code",
      "metadata": {
        "id": "iH31JlU0mVnC"
      },
      "source": [
        ""
      ],
      "execution_count": null,
      "outputs": []
    },
    {
      "cell_type": "markdown",
      "metadata": {
        "id": "9iDKhcpEnK8X"
      },
      "source": [
        "### 予測評価値の計算・レコメンド"
      ]
    },
    {
      "cell_type": "code",
      "metadata": {
        "id": "iRKo2k18mVrA",
        "colab": {
          "base_uri": "https://localhost:8080/",
          "height": 221
        },
        "outputId": "252b9295-ce70-4c18-d095-56bc637f3c08"
      },
      "source": [
        "user_id = 100\n",
        "hits = 0\n",
        "\n",
        "# 各ユーザの評価値を抜き出し「類似度×評価点」を算出\n",
        "rating_matrix_user = rating_matrix_item[:, user_id - 1]\n",
        "pred_rating_user = similarity_matrix * rating_matrix_user\n",
        "print(pred_rating_user)\n",
        "# アイテム（行）ごとに「類似度×評価点」を合計\n",
        "pred_rating_user = pred_rating_user.sum(axis=1)\n",
        "print(pred_rating_user)\n",
        "\n",
        "# スコアの分母の方。ユーザが評価したアイテムの類似度だけを足し合わせる - 数式通りにやろうとしたらうまくいかなかったためこの分母の部分は除外\n",
        "# sim_user_calc = similarity_matrix * rating_matrix_calc[:, user_id - 1]\n",
        "# sim_user_calc_base = sim_user_calc.sum(axis=1)\n",
        "\n",
        "# ユーザが既に評価したアイテムのスコアはゼロに直す\n",
        "pred_rating_user_item = pred_rating_user * rating_matrix_train[:,user_id - 1]\n",
        "\n",
        "#ここからレコメンドされたアイテムがどれだけあっていたかを評価していく\n",
        "recommend_list = np.argsort(pred_rating_user_item)[::-1][:10] + 1\n",
        "purchase_list_user = u_data_test[u_data_test.user_id == user_id].loc[:, 'item_id'].unique()\n",
        "for item_id in recommend_list:\n",
        "    if item_id in purchase_list_user:\n",
        "        hits += 1\n",
        "pre = hits / 10.0\n",
        "\n",
        "print('Recommend list:', recommend_list)\n",
        "print('Test Rated list:', purchase_list_user)\n",
        "print('Precision:', str(pre))"
      ],
      "execution_count": null,
      "outputs": [
        {
          "output_type": "stream",
          "text": [
            "[[0. 0. 0. ... 0. 0. 0.]\n",
            " [0. 0. 0. ... 0. 0. 0.]\n",
            " [0. 0. 0. ... 0. 0. 0.]\n",
            " ...\n",
            " [0. 0. 0. ... 0. 0. 0.]\n",
            " [0. 0. 0. ... 0. 0. 0.]\n",
            " [0. 0. 0. ... 0. 0. 0.]]\n",
            "[16.92595783 12.15348077 10.89480184 ...  2.53353438  0.17578952\n",
            "         nan]\n",
            "Recommend list: [1682 1582 1653  302  307  750  301  748  288  332]\n",
            "Test Rated list: [266 268 288 302 321 340 344 354 355 750]\n",
            "Precision: 0.3\n"
          ],
          "name": "stdout"
        }
      ]
    },
    {
      "cell_type": "markdown",
      "metadata": {
        "id": "y2lZe0WmuXYW"
      },
      "source": [
        "#### 全体の精度評価"
      ]
    },
    {
      "cell_type": "code",
      "metadata": {
        "id": "go2TPWVfrJgm",
        "colab": {
          "base_uri": "https://localhost:8080/",
          "height": 34
        },
        "outputId": "42852393-b47c-496a-e05e-04583fb1809f"
      },
      "source": [
        "# 予測評価値の計算\n",
        "precision_list = []\n",
        "recall_list = []\n",
        "user_list_test = u_data_test.sort_values('user_id').user_id.unique()\n",
        "\n",
        "for user_id in tqdm(user_list_test):\n",
        "    hits = 0\n",
        "    # 各ユーザの評価値を抜き出し「類似度×評価点」を算出\n",
        "    rating_matrix_user = rating_matrix_item[:, user_id - 1]\n",
        "    pred_rating_user = similarity_matrix * rating_matrix_user\n",
        "    # アイテム（行）ごとに「類似度×評価点」を合計\n",
        "    pred_rating_user = pred_rating_user.sum(axis=1)\n",
        "\n",
        "    # ユーザが既に評価したアイテムのスコアはゼロに直す\n",
        "    pred_rating_user_item = pred_rating_user * rating_matrix_train[:,user_id - 1]\n",
        "\n",
        "    #ここからレコメンドされたアイテムがどれだけあっていたかを評価していく\n",
        "    recommend_list = np.argsort(pred_rating_user_item)[::-1][:10] + 1\n",
        "    purchase_list_user = u_data_test[u_data_test.user_id == user_id].loc[:, 'item_id'].unique()\n",
        "    for item_id in recommend_list:\n",
        "        if item_id in purchase_list_user:\n",
        "            hits += 1\n",
        "    pre = hits / 10.0\n",
        "    precision_list.append(pre)\n"
      ],
      "execution_count": null,
      "outputs": [
        {
          "output_type": "stream",
          "text": [
            "100%|██████████| 943/943 [00:31<00:00, 29.70it/s]\n"
          ],
          "name": "stderr"
        }
      ]
    },
    {
      "cell_type": "code",
      "metadata": {
        "id": "eyBnn0rUrJnA",
        "colab": {
          "base_uri": "https://localhost:8080/",
          "height": 34
        },
        "outputId": "97625a12-9c3c-44a9-d2e1-70e7b908ccc4"
      },
      "source": [
        "# 全体の精度検証\n",
        "precision = sum(precision_list) / len(precision_list)\n",
        "print('Precision:', precision)"
      ],
      "execution_count": null,
      "outputs": [
        {
          "output_type": "stream",
          "text": [
            "Precision: 0.15726405090137793\n"
          ],
          "name": "stdout"
        }
      ]
    },
    {
      "cell_type": "code",
      "metadata": {
        "id": "qtAplTDqsGc5"
      },
      "source": [
        ""
      ],
      "execution_count": null,
      "outputs": []
    }
  ]
}