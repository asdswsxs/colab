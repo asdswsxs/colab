{
  "nbformat": 4,
  "nbformat_minor": 0,
  "metadata": {
    "kernelspec": {
      "display_name": "Python 3",
      "language": "python",
      "name": "python3"
    },
    "language_info": {
      "codemirror_mode": {
        "name": "ipython",
        "version": 3
      },
      "file_extension": ".py",
      "mimetype": "text/x-python",
      "name": "python",
      "nbconvert_exporter": "python",
      "pygments_lexer": "ipython3",
      "version": "3.8.5"
    },
    "colab": {
      "name": "model_evaluation",
      "provenance": [],
      "include_colab_link": true
    }
  },
  "cells": [
    {
      "cell_type": "markdown",
      "metadata": {
        "id": "view-in-github",
        "colab_type": "text"
      },
      "source": [
        "<a href=\"https://colab.research.google.com/github/asdswsxs/colab/blob/main/model_evaluation.ipynb\" target=\"_parent\"><img src=\"https://colab.research.google.com/assets/colab-badge.svg\" alt=\"Open In Colab\"/></a>"
      ]
    },
    {
      "cell_type": "code",
      "metadata": {
        "id": "UAtOsnskJowd"
      },
      "source": [
        "import pandas as pd\n",
        "import numpy as np\n",
        "#import scipy\n",
        "import os\n",
        "import glob\n",
        "import xlrd\n",
        "from pathlib import Path\n",
        "import codecs"
      ],
      "execution_count": null,
      "outputs": []
    },
    {
      "cell_type": "code",
      "metadata": {
        "id": "Z12aNTVyJowl"
      },
      "source": [
        "BASE_DIR = Path(os.getcwd()).resolve().parent # Scriptフォルダの１つ上のディレクトリ\n",
        "IN_DIR = str(BASE_DIR) + '/input/work/'  # 入力データ\n",
        "MST_DIR = str(IN_DIR) + 'マスタ/'  # マスタデータ\n",
        "TEMP_DIR = str(BASE_DIR) + '/temp/'            # 中間生成物の保存先\n",
        "OUT_DIR = str(BASE_DIR) + '/out/'          # 生成物の保存先\n",
        "\n",
        "pd.options.display.max_rows = 1000\n",
        "pd.options.display.max_columns = 1000\n",
        "pd.options.display.max_colwidth = 1000"
      ],
      "execution_count": null,
      "outputs": []
    },
    {
      "cell_type": "code",
      "metadata": {
        "id": "g11yNiXUJowm",
        "outputId": "a8799a3b-5526-4c3e-c179-f1fd5fcdc3e3"
      },
      "source": [
        "%%time \n",
        "train_data = pd.read_csv(OUT_DIR + \"model_data_train.csv\",encoding=\"utf-8-sig\")\n",
        "test_data = pd.read_csv(OUT_DIR + \"model_data_test.csv\",encoding=\"utf-8-sig\")\n",
        "test = test_data.drop(columns=\"target\")"
      ],
      "execution_count": null,
      "outputs": [
        {
          "output_type": "stream",
          "text": [
            "CPU times: user 34.1 s, sys: 8.53 s, total: 42.6 s\n",
            "Wall time: 47.7 s\n"
          ],
          "name": "stdout"
        }
      ]
    },
    {
      "cell_type": "markdown",
      "metadata": {
        "id": "itiSPQqtM2la"
      },
      "source": [
        ""
      ]
    },
    {
      "cell_type": "code",
      "metadata": {
        "id": "YAn2xIXkK9kw"
      },
      "source": [
        ""
      ],
      "execution_count": null,
      "outputs": []
    },
    {
      "cell_type": "code",
      "metadata": {
        "id": "ZyhWkW_9Jown"
      },
      "source": [
        ""
      ],
      "execution_count": null,
      "outputs": []
    },
    {
      "cell_type": "code",
      "metadata": {
        "id": "5LE1wJ4HJowo"
      },
      "source": [
        "# Logistic Regression\n",
        "def pred_Logistic(X_train, Y_train, test): \n",
        "    from sklearn.linear_model import LogisticRegression\n",
        "\n",
        "    logreg = LogisticRegression()\n",
        "    logreg.fit(X_train, Y_train)\n",
        "    Y_pred = logreg.predict(test)\n",
        "    acc = round(logreg.score(X_train, Y_train) * 100, 2)\n",
        "\n",
        "    #print(acc_log)\n",
        "\n",
        "    return Y_pred, acc       \n",
        "    "
      ],
      "execution_count": null,
      "outputs": []
    },
    {
      "cell_type": "code",
      "metadata": {
        "id": "exmejrWbJowo"
      },
      "source": [
        "# Support Vector Machines\n",
        "def pred_KNeighbors(X_train, Y_train, test):  \n",
        "    from sklearn.svm import SVC\n",
        "\n",
        "    svc = SVC()\n",
        "    svc.fit(X_train, Y_train)\n",
        "\n",
        "    #acc_svc = round(svc.score(X_train, Y_train) * 100, 2)\n",
        "    acc = round(svc.score(X_train, Y_train) * 100, 2)\n",
        "\n",
        "    #print(acc)\n",
        "    \n",
        "    Y_pred = svc.predict(test)\n",
        "    \n",
        "    return Y_pred, acc    \n",
        "    "
      ],
      "execution_count": null,
      "outputs": []
    },
    {
      "cell_type": "code",
      "metadata": {
        "id": "hePcmMCpJowo"
      },
      "source": [
        "# K-近傍法\n",
        "def pred_KNeighbors(X_train, Y_train, test):  \n",
        "    from sklearn.neighbors import KNeighborsClassifier\n",
        "\n",
        "    knn = KNeighborsClassifier(n_neighbors = 3)\n",
        "    knn.fit(X_train, Y_train)\n",
        "    #acc_knn = round(knn.score(X_train, Y_train) * 100, 2)\n",
        "    acc = round(knn.score(X_train, Y_train) * 100, 2)\n",
        "\n",
        "    #print(acc)\n",
        "    \n",
        "    Y_pred = knn.predict(test)\n",
        "    \n",
        "    return Y_pred, acc\n"
      ],
      "execution_count": null,
      "outputs": []
    },
    {
      "cell_type": "code",
      "metadata": {
        "id": "LNZk-hGYJowp"
      },
      "source": [
        "# Gaussian Naive Bayes\n",
        "def pred_GaussianNB(X_train, Y_train, test):  \n",
        "    from sklearn.naive_bayes import GaussianNB\n",
        "\n",
        "    gaussian = GaussianNB()\n",
        "    gaussian.fit(X_train, Y_train)\n",
        "    #acc_gaussian = round(gaussian.score(X_train, Y_train) * 100, 2)\n",
        "    acc = round(gaussian.score(X_train, Y_train) * 100, 2)\n",
        "\n",
        "    Y_pred = gaussian.predict(test)\n",
        "    \n",
        "    #print(acc)\n",
        "    \n",
        "    return Y_pred, acc    \n"
      ],
      "execution_count": null,
      "outputs": []
    },
    {
      "cell_type": "code",
      "metadata": {
        "id": "aguYJKElJowp"
      },
      "source": [
        "# Perceptron\n",
        "def pred_Perceptron(X_train, Y_train, test):  \n",
        "    from sklearn.linear_model import Perceptron\n",
        "\n",
        "    perceptron = Perceptron()\n",
        "    perceptron.fit(X_train, Y_train)\n",
        "    #acc_perceptron = round(perceptron.score(X_train, Y_train) * 100, 2)\n",
        "    acc = round(perceptron.score(X_train, Y_train) * 100, 2)\n",
        "\n",
        "    #print(acc)\n",
        "    Y_pred = perceptron.predict(test)\n",
        "\n",
        "    return Y_pred, acc\n"
      ],
      "execution_count": null,
      "outputs": []
    },
    {
      "cell_type": "code",
      "metadata": {
        "id": "tNSKEZq0Jowp"
      },
      "source": [
        "# Linear SVC\n",
        "def pred_LinearSVC(X_train, Y_train, test):  \n",
        "    from sklearn.svm import LinearSVC\n",
        "\n",
        "    linear_svc = LinearSVC()\n",
        "    linear_svc.fit(X_train, Y_train)\n",
        "    #acc_linear_svc = round(linear_svc.score(X_train, Y_train) * 100, 2)\n",
        "    acc = round(linear_svc.score(X_train, Y_train) * 100, 2)\n",
        "    \n",
        "    #print(acc)\n",
        "    \n",
        "    Y_pred = linear_svc.predict(test)\n",
        "    \n",
        "    return Y_pred, acc\n"
      ],
      "execution_count": null,
      "outputs": []
    },
    {
      "cell_type": "code",
      "metadata": {
        "id": "XGbFkw_cJowq"
      },
      "source": [
        "# Stochastic Gradient Descent\n",
        "def pred_SGD(X_train, Y_train, test):  \n",
        "    from sklearn.linear_model import SGDClassifier\n",
        "\n",
        "    sgd = SGDClassifier()\n",
        "    sgd.fit(X_train, Y_train)\n",
        "\n",
        "    #acc_sgd = round(sgd.score(X_train, Y_train) * 100, 2)\n",
        "    acc = round(sgd.score(X_train, Y_train) * 100, 2)\n",
        "    #print(acc)\n",
        "\n",
        "    Y_pred = sgd.predict(test)\n",
        "\n",
        "    return Y_pred, acc\n",
        "    "
      ],
      "execution_count": null,
      "outputs": []
    },
    {
      "cell_type": "code",
      "metadata": {
        "id": "1J2l9FpMJowq"
      },
      "source": [
        "# Decision Tree\n",
        "def pred_Decision_Tree(X_train, Y_train, test):  \n",
        "    from sklearn.tree import DecisionTreeClassifier\n",
        "\n",
        "    decision_tree = DecisionTreeClassifier()\n",
        "    decision_tree.fit(X_train, Y_train)\n",
        "    #acc_decision_tree = round(decision_tree.score(X_train, Y_train) * 100, 2)\n",
        "    acc = round(decision_tree.score(X_train, Y_train) * 100, 2)\n",
        "    #print(acc)\n",
        "\n",
        "    Y_pred = decision_tree.predict(test)\n",
        "\n",
        "    return Y_pred, acc\n"
      ],
      "execution_count": null,
      "outputs": []
    },
    {
      "cell_type": "code",
      "metadata": {
        "id": "u0OTRkNAJowq"
      },
      "source": [
        "# Random Forest\n",
        "def pred_RandomForest(X_train, Y_train, test):\n",
        "    from sklearn.ensemble import RandomForestClassifier\n",
        "\n",
        "    random_forest = RandomForestClassifier(n_estimators=100)\n",
        "    random_forest.fit(X_train, Y_train)\n",
        "    random_forest.score(X_train, Y_train)\n",
        "    acc = round(random_forest.score(X_train, Y_train) * 100, 2)\n",
        "\n",
        "    #print(acc_random_forest)\n",
        "\n",
        "    \n",
        "    Y_pred = random_forest.predict(test)    \n",
        "    return Y_pred, acc    \n"
      ],
      "execution_count": null,
      "outputs": []
    },
    {
      "cell_type": "code",
      "metadata": {
        "id": "v3sEHnXzJowq"
      },
      "source": [
        "def pred_xgb(X_train, Y_train, test):    \n",
        "    \n",
        "    from xgboost import XGBClassifier\n",
        "\n",
        "    classifier = XGBClassifier()\n",
        "    classifier.fit(X_train, Y_train)\n",
        "    classifier.score(X_train, Y_train)\n",
        "\n",
        "    #acc_xgblassifier = round(classifier.score(X_train, Y_train) * 100, 2)\n",
        "    acc = round(classifier.score(X_train, Y_train) * 100, 2)\n",
        "    #print(acc)\n",
        "    \n",
        "    Y_pred = classifier.predict(test)\n",
        "\n",
        "    return Y_pred, acc\n"
      ],
      "execution_count": null,
      "outputs": []
    },
    {
      "cell_type": "code",
      "metadata": {
        "id": "Gku5usz-Jowr"
      },
      "source": [
        "sum_score = np.zeros(len(X_cols ),)\n",
        " \n",
        "for i in range(splits):\n",
        "    sum_score += score[\"estimator\"][i].feature_importances()\n",
        " \n",
        "df_score = pd.DataFrame(sum_score/splits,index=X_cols,columns=[\"score\"])\n",
        " \n",
        "df_score.sort_values(\"score\",ascending=False) #影響が大きい順に表示"
      ],
      "execution_count": null,
      "outputs": []
    },
    {
      "cell_type": "code",
      "metadata": {
        "id": "DYXxE9ljJowr"
      },
      "source": [
        "def pred_grid_cv_xgb(X_train, Y_train, test):    \n",
        "    from xgboost import XGBClassifier\n",
        "    from sklearn.model_selection import GridSearchCV\n",
        "    from sklearn.metrics import confusion_matrix, classification_report\n",
        "\n",
        "    # xgboostモデルの作成\n",
        "    clf = XGBClassifier()\n",
        "\n",
        "    # ハイパーパラメータ探索\n",
        "    clf_cv = GridSearchCV(clf, {'max_depth': [2,4,6], 'n_estimators': [50,100,200]}, verbose=1)\n",
        "    clf_cv.fit(X_train, Y_train)\n",
        "    print(clf_cv.best_params_, clf_cv.best_score_)\n",
        "\n",
        "    # 改めて最適パラメータで学習\n",
        "    clf = XGBClassifier(**clf_cv.best_params_)\n",
        "    clf.fit(X_train, Y_train)\n",
        "\n",
        "    acc = round(clf.score(X_train, Y_train) * 100, 2)\n",
        "    # 学習モデルの保存、読み込み\n",
        "    # import pickle\n",
        "    # pickle.dump(clf, open(\"model.pkl\", \"wb\"))\n",
        "    # clf = pickle.load(open(\"model.pkl\", \"rb\"))\n",
        "\n",
        "    # 学習モデルの評価\n",
        "    Y_pred = clf.predict(test)\n",
        "\n",
        "    return Y_pred, acc\n"
      ],
      "execution_count": null,
      "outputs": []
    },
    {
      "cell_type": "code",
      "metadata": {
        "id": "xhWPkjYmLdTV"
      },
      "source": [
        ""
      ],
      "execution_count": null,
      "outputs": []
    },
    {
      "cell_type": "code",
      "metadata": {
        "id": "4JUWTniIJowr"
      },
      "source": [
        ""
      ],
      "execution_count": null,
      "outputs": []
    },
    {
      "cell_type": "code",
      "metadata": {
        "id": "5zuGziyIJowr"
      },
      "source": [
        ""
      ],
      "execution_count": null,
      "outputs": []
    },
    {
      "cell_type": "code",
      "metadata": {
        "id": "p3f3ABkGJows",
        "outputId": "0c6ef61f-d50d-42dc-fcd6-018337810788"
      },
      "source": [
        "\n",
        "col_list,col_list2 = chk_col(train_data, test)\n",
        "print(len(col_list))\n",
        "print(col_list)"
      ],
      "execution_count": null,
      "outputs": [
        {
          "output_type": "stream",
          "text": [
            "61\n",
            "['sex_flg', 'walkbus_flg', 'expcomp_num', 'wishannualincm_num', 'minwishannualincm_num', 'check_flg', 'current_annualincome_num', 'monthly_annualincome_num', 'year_bonus', 'allowance_num_1', 'allowance_num_2', 'allowance_num_3', 'allowance_num_4', 'mypage_flg', 'currentsalary_num', 'wishsalary_num', 'minwishsalary_num', 'disabilities_flg', 'emply_num', 'minannualincm', 'maxannualincm', 'modelage', 'minage', 'maxage', 'age_flg', 'careerchange_num', 'oreder_focus_flg', 'overtime_flg', 'minbasepay', 'maxbasepay', 'payrise_flg', 'fixedovertimefee_flg', 'salesamount', 'ordinaryprofit', 'client_employee_num', 'client_frigncptl_flg', 'venture_flg', 'client_focus_flg', 'retirementage_num', 'is_march_flg', 'busicr_frigncptl_flg', 'busicr_employee_num', 'busicr_capital', 'annualincm', 'toeic', 'toefl', 'doc_reading_flg', 'to_exchange_email_flg', 'tel_conversation_flg', 'conference_in_eng_flg', 'busi_talk_and_nego_in_eng_flg', 'stay_abroad_flg', 'prog_age', 'match_age', 'match_annualincome', 'match_salary', 'match_pref', 'match_wkarea', 'match_ocupctg1', 'match_ocupctg2', 'match_ocupctg3']\n"
          ],
          "name": "stdout"
        }
      ]
    },
    {
      "cell_type": "code",
      "metadata": {
        "id": "hFWsA_p-Jows",
        "outputId": "6b9607a1-dc80-478c-8cf6-815625c83ad3"
      },
      "source": [
        "for col in test.columns.to_list():\n",
        "    if \"match\" in col:\n",
        "        print(col, train_data[col].dtype)"
      ],
      "execution_count": null,
      "outputs": [
        {
          "output_type": "stream",
          "text": [
            "match_age int64\n",
            "match_annualincome int64\n",
            "match_salary int64\n",
            "match_pref int64\n",
            "match_wkarea int64\n",
            "match_ocupctg1 int64\n",
            "match_ocupctg2 int64\n",
            "match_ocupctg3 int64\n"
          ],
          "name": "stdout"
        }
      ]
    },
    {
      "cell_type": "code",
      "metadata": {
        "id": "OjUDm8iHJowt",
        "outputId": "b4e8ba3f-a725-412d-ca10-9402cfce1a0f"
      },
      "source": [
        "print(len(test.columns.to_list()))\n",
        "print(len(train_data.columns.to_list()))"
      ],
      "execution_count": null,
      "outputs": [
        {
          "output_type": "stream",
          "text": [
            "52\n",
            "179\n"
          ],
          "name": "stdout"
        }
      ]
    },
    {
      "cell_type": "code",
      "metadata": {
        "id": "TUtCLGhoJowt"
      },
      "source": [
        "def chk_col(df1, df2):\n",
        "    col_list = []\n",
        "    for col in df1.columns.to_list():\n",
        "        if col in df2.columns.to_list():\n",
        "            if (df1[col].dtype in ['int64', 'float64']) and (\"Id\" not in col) and (\"id\" not in col) :\n",
        "                col_list.append(col)\n",
        "    col_list2 = col_list + ['target']\n",
        "    \n",
        "    return col_list, col_list2\n"
      ],
      "execution_count": null,
      "outputs": []
    },
    {
      "cell_type": "code",
      "metadata": {
        "id": "vRmhj7QZJowu",
        "outputId": "e89701b1-de15-4102-c461-91acd8ee0a6b"
      },
      "source": [
        "%%time\n",
        "from sklearn.model_selection import train_test_split\n",
        "\n",
        "col_list,col_list2 = chk_col(train_data, test)\n",
        "\n",
        "# 不要カラム削除\n",
        "X_train = train_data[col_list2].drop('target', axis=1).fillna(0)\n",
        "Y_train = train_data[col_list2]['target'].fillna(0)\n",
        "\n",
        "test = test[col_list].fillna(0)\n",
        "\n",
        "# 訓練データとテストデータに分割する\n",
        "#X_train, X_test, Y_train, Y_test = train_test_split(X, Y, test_size=0.3, random_state = 0)\n",
        "\n",
        "# Logistic Regression\n",
        "pred_logreg, acc_logreg  = pred_Logistic(X_train, Y_train, test) \n",
        "\n",
        "# Support Vector Machines\n",
        "pred_svm, acc_svm = pred_KNeighbors(X_train, Y_train, test)\n",
        "\n",
        "# K-近傍法\n",
        "pred_knn, acc_knn = pred_KNeighbors(X_train, Y_train, test)\n",
        "\n",
        "# Gaussian Naive Bayes\n",
        "pred_gaussian, acc_gaussian = pred_GaussianNB(X_train, Y_train, test)\n",
        "\n",
        "# Perceptron\n",
        "pred_perceptron, acc_perceptron = pred_Perceptron(X_train, Y_train, test)\n",
        "\n",
        "# Linear SVC\n",
        "pred_linear_svc, acc_linear_svc = pred_LinearSVC(X_train, Y_train, test)\n",
        "\n",
        "# Stochastic Gradient Descent\n",
        "pred_sgd, acc_sgd = pred_SGD(X_train, Y_train, test)\n",
        "\n",
        "# Decision Tree\n",
        "pred_decision_tree, acc_decision_tree = pred_Decision_Tree(X_train, Y_train, test)\n",
        "\n",
        "# Random Forest\n",
        "pred_random_forest, acc_random_forest = pred_RandomForest(X_train, Y_train, test)\n",
        "\n",
        "#XGBClassifier\n",
        "#pred_xgb, acc_xgb1 =  pred_xgb(X_train, Y_train, test)\n",
        "#pred_xgb_grid, acc_xgb2 =  pred_grid_cv_xgb(X_train, Y_train, test)\n"
      ],
      "execution_count": null,
      "outputs": [
        {
          "output_type": "stream",
          "text": [
            "/Users/s1190852/.local/share/virtualenvs/Referral_business-mE8dB_a_/lib/python3.8/site-packages/sklearn/svm/_base.py:976: ConvergenceWarning: Liblinear failed to converge, increase the number of iterations.\n",
            "  warnings.warn(\"Liblinear failed to converge, increase \"\n"
          ],
          "name": "stderr"
        },
        {
          "output_type": "stream",
          "text": [
            "CPU times: user 13min 43s, sys: 13.4 s, total: 13min 57s\n",
            "Wall time: 30min 33s\n"
          ],
          "name": "stdout"
        }
      ]
    },
    {
      "cell_type": "code",
      "metadata": {
        "id": "58FK7ZhZJowu",
        "outputId": "dd74a3db-95ed-44fd-d14d-1618a152402e"
      },
      "source": [
        "# ふるふる\n",
        "models = pd.DataFrame({\n",
        "    'Model': ['Support Vector Machines', 'KNN', 'Logistic Regression', \n",
        "              'Random Forest', 'Naive Bayes', 'Perceptron', \n",
        "              'Stochastic Gradient Decent', 'Linear SVC', \n",
        "              'Decision Tree', 'XGBClassifier', 'XGBClassifier_grid_cv'],\n",
        "    'Score': [acc_svm, acc_knn, acc_logreg, \n",
        "              acc_random_forest, acc_gaussian, acc_perceptron, \n",
        "              acc_sgd, acc_linear_svc, acc_decision_tree, acc_xgb1, acc_xgb2 ]})\n",
        "models.sort_values(by='Score', ascending=False)"
      ],
      "execution_count": null,
      "outputs": [
        {
          "output_type": "error",
          "ename": "NameError",
          "evalue": "name 'acc_xgb2' is not defined",
          "traceback": [
            "\u001b[0;31m---------------------------------------------------------------------------\u001b[0m",
            "\u001b[0;31mNameError\u001b[0m                                 Traceback (most recent call last)",
            "\u001b[0;32m<ipython-input-76-a481c8ee45b5>\u001b[0m in \u001b[0;36m<module>\u001b[0;34m\u001b[0m\n\u001b[1;32m      6\u001b[0m     'Score': [acc_svm, acc_knn, acc_logreg, \n\u001b[1;32m      7\u001b[0m               \u001b[0macc_random_forest\u001b[0m\u001b[0;34m,\u001b[0m \u001b[0macc_gaussian\u001b[0m\u001b[0;34m,\u001b[0m \u001b[0macc_perceptron\u001b[0m\u001b[0;34m,\u001b[0m\u001b[0;34m\u001b[0m\u001b[0;34m\u001b[0m\u001b[0m\n\u001b[0;32m----> 8\u001b[0;31m               acc_sgd, acc_linear_svc, acc_decision_tree, acc_xgb1, acc_xgb2 ]})\n\u001b[0m\u001b[1;32m      9\u001b[0m \u001b[0mmodels\u001b[0m\u001b[0;34m.\u001b[0m\u001b[0msort_values\u001b[0m\u001b[0;34m(\u001b[0m\u001b[0mby\u001b[0m\u001b[0;34m=\u001b[0m\u001b[0;34m'Score'\u001b[0m\u001b[0;34m,\u001b[0m \u001b[0mascending\u001b[0m\u001b[0;34m=\u001b[0m\u001b[0;32mFalse\u001b[0m\u001b[0;34m)\u001b[0m\u001b[0;34m\u001b[0m\u001b[0;34m\u001b[0m\u001b[0m\n",
            "\u001b[0;31mNameError\u001b[0m: name 'acc_xgb2' is not defined"
          ]
        }
      ]
    },
    {
      "cell_type": "code",
      "metadata": {
        "id": "tIxMynWMJowu",
        "outputId": "1b8cce28-eb71-466b-ccda-678da4a85d3e"
      },
      "source": [
        "models = pd.DataFrame({\n",
        "    'Model': ['Support Vector Machines', 'KNN', 'Logistic Regression', \n",
        "              'Random Forest', 'Naive Bayes', 'Perceptron', \n",
        "              'Stochastic Gradient Decent', 'Linear SVC', \n",
        "              'Decision Tree',],\n",
        "    'Score': [acc_svm, acc_knn, acc_logreg, \n",
        "              acc_random_forest, acc_gaussian, acc_perceptron, \n",
        "              acc_sgd, acc_linear_svc, acc_decision_tree ]})\n",
        "models.sort_values(by='Score', ascending=False)"
      ],
      "execution_count": null,
      "outputs": [
        {
          "output_type": "execute_result",
          "data": {
            "text/html": [
              "<div>\n",
              "<style scoped>\n",
              "    .dataframe tbody tr th:only-of-type {\n",
              "        vertical-align: middle;\n",
              "    }\n",
              "\n",
              "    .dataframe tbody tr th {\n",
              "        vertical-align: top;\n",
              "    }\n",
              "\n",
              "    .dataframe thead th {\n",
              "        text-align: right;\n",
              "    }\n",
              "</style>\n",
              "<table border=\"1\" class=\"dataframe\">\n",
              "  <thead>\n",
              "    <tr style=\"text-align: right;\">\n",
              "      <th></th>\n",
              "      <th>Model</th>\n",
              "      <th>Score</th>\n",
              "    </tr>\n",
              "  </thead>\n",
              "  <tbody>\n",
              "    <tr>\n",
              "      <th>3</th>\n",
              "      <td>Random Forest</td>\n",
              "      <td>99.71</td>\n",
              "    </tr>\n",
              "    <tr>\n",
              "      <th>8</th>\n",
              "      <td>Decision Tree</td>\n",
              "      <td>99.71</td>\n",
              "    </tr>\n",
              "    <tr>\n",
              "      <th>0</th>\n",
              "      <td>Support Vector Machines</td>\n",
              "      <td>79.71</td>\n",
              "    </tr>\n",
              "    <tr>\n",
              "      <th>1</th>\n",
              "      <td>KNN</td>\n",
              "      <td>79.71</td>\n",
              "    </tr>\n",
              "    <tr>\n",
              "      <th>2</th>\n",
              "      <td>Logistic Regression</td>\n",
              "      <td>55.68</td>\n",
              "    </tr>\n",
              "    <tr>\n",
              "      <th>4</th>\n",
              "      <td>Naive Bayes</td>\n",
              "      <td>55.68</td>\n",
              "    </tr>\n",
              "    <tr>\n",
              "      <th>6</th>\n",
              "      <td>Stochastic Gradient Decent</td>\n",
              "      <td>53.90</td>\n",
              "    </tr>\n",
              "    <tr>\n",
              "      <th>5</th>\n",
              "      <td>Perceptron</td>\n",
              "      <td>53.65</td>\n",
              "    </tr>\n",
              "    <tr>\n",
              "      <th>7</th>\n",
              "      <td>Linear SVC</td>\n",
              "      <td>49.99</td>\n",
              "    </tr>\n",
              "  </tbody>\n",
              "</table>\n",
              "</div>"
            ],
            "text/plain": [
              "                        Model  Score\n",
              "3               Random Forest  99.71\n",
              "8               Decision Tree  99.71\n",
              "0     Support Vector Machines  79.71\n",
              "1                         KNN  79.71\n",
              "2         Logistic Regression  55.68\n",
              "4                 Naive Bayes  55.68\n",
              "6  Stochastic Gradient Decent  53.90\n",
              "5                  Perceptron  53.65\n",
              "7                  Linear SVC  49.99"
            ]
          },
          "metadata": {
            "tags": []
          },
          "execution_count": 129
        }
      ]
    },
    {
      "cell_type": "code",
      "metadata": {
        "id": "0SwJzoDGJowv",
        "outputId": "238fc9b5-02da-4ee9-dbe0-a2eb41740770"
      },
      "source": [
        "\"\"\"\n",
        "\"Survived\": pred_logreg, \n",
        "\"Survived\": pred_svm, \n",
        "\"Survived\": pred_knn, \n",
        "\"Survived\": pred_gaussian, \n",
        "\"Survived\": pred_perceptron, \n",
        "\"Survived\": pred_linear_svc, \n",
        "\"Survived\": pred_sgd, \n",
        "\"Survived\": pred_decision_tree, \n",
        "\"Survived\": pred_random_forest, \n",
        "\"Survived\": pred_xgb, \n",
        "\"Survived\": pred_xgb_grid,\n",
        "\"\"\"\n",
        "\n",
        "submission = pd.DataFrame({\n",
        "        \"progress_id\": test_data[\"progress_id\"],\n",
        "        \"Pred_flg\": pred_decision_tree,\n",
        "    })\n",
        "\n",
        "chk  = test_data.merge(submission, on = \"progress_id\", how=\"left\")\n",
        "\n",
        "chk[\"tp\"] = [1 if (i==1) and (j==1) and (i==j) else 0 for i,j in zip(chk[\"Pred_flg\"], chk[\"target\"])]\n",
        "chk[\"fp\"] = [1 if (i==1) and (j==0) else 0 for i,j in zip(chk[\"Pred_flg\"], chk[\"target\"])]\n",
        "#print(\"通過一致率\",len(chk[chk[\"pred_target1\"]==1])/len(chk[chk[\"target\"]==1]))\n",
        "\n",
        "chk[\"tn\"] = [1 if (i==0) and (j==0) and (i==j) else 0 for i,j in zip(chk[\"Pred_flg\"], chk[\"target\"])]\n",
        "chk[\"fn\"] = [1 if (i==0) and (j==1) else 0 for i,j in zip(chk[\"Pred_flg\"], chk[\"target\"])]\n",
        "#print(\"非通過一致率\",len(chk[chk[\"pred_target0\"]==1])/len(chk[chk[\"target\"]==0]))\n",
        "\n",
        "\n",
        "print(\"accuracy: \" , (len(chk[chk[\"tp\"]==1])+len(chk[chk[\"tn\"]==1])) / len(chk)) # 予測一致数 / 全数\n",
        "print(\"recall: \" ,len(chk[chk[\"tp\"]==1]) / (len(chk[chk[\"tp\"]==1]) + len(chk[chk[\"fn\"]==1]))) # 予測通過数 / 予測通過数 + 予測非通過の内通過した\n",
        "print(\"precision: \" ,len(chk[chk[\"tp\"]==1]) / (len(chk[chk[\"tp\"]==1]) + len(chk[chk[\"fp\"]==1]))) # 予測通過数 / 予測通過数 + 予測通過数の内、非通過\n",
        "\n",
        "#submission.to_csv('submission_logistic.csv', index=False)\n"
      ],
      "execution_count": null,
      "outputs": [
        {
          "output_type": "stream",
          "text": [
            "accuracy:  0.6293460426595828\n",
            "recall:  0.6135451350960083\n",
            "precision:  0.5004240062688522\n"
          ],
          "name": "stdout"
        }
      ]
    },
    {
      "cell_type": "code",
      "metadata": {
        "id": "SaEZn4p7Joww"
      },
      "source": [
        "import subprocess\n",
        "from sklearn.tree import DecisionTreeClassifier, export_graphviz\n",
        "\n",
        "\n",
        "def main():\n",
        "    dtc = DecisionTreeClassifier(max_depth=3)\n",
        "    dtc.fit(X_train, Y_train)\n",
        "    export_graphviz(dtc, \"tree.dot\",\n",
        "                    feature_names=X_train.columns.to_list(),\n",
        "                    class_names=[\"1\",\"0\"])\n",
        "    subprocess.run(\"dot -Tpng tree.dot -o tree.png\".split())\n",
        "\n",
        "if __name__ == \"__main__\":\n",
        "    main()\n"
      ],
      "execution_count": null,
      "outputs": []
    },
    {
      "cell_type": "code",
      "metadata": {
        "id": "34HIg_lzJoww"
      },
      "source": [
        "\n",
        "\n",
        "from sklearn.model_selection import train_test_split\n",
        "\n",
        "col_list,col_list2 = chk_col(train_data, test)\n",
        "\n",
        "# 不要カラム削除\n",
        "X_train = train_data[col_list2].drop('target', axis=1).fillna(0)\n",
        "Y_train = train_data[col_list2]['target'].fillna(0)\n",
        "\n",
        "test = test[col_list].fillna(0)\n",
        "\n"
      ],
      "execution_count": null,
      "outputs": []
    },
    {
      "cell_type": "code",
      "metadata": {
        "id": "DFc8-098Jowx"
      },
      "source": [
        "import pickle\n",
        "\n",
        "with open('col_list2.pickle', 'wb') as f:\n",
        "    pickle.dump(col_list2, f)"
      ],
      "execution_count": null,
      "outputs": []
    },
    {
      "cell_type": "code",
      "metadata": {
        "id": "RM68HNDxJowx"
      },
      "source": [
        ""
      ],
      "execution_count": null,
      "outputs": []
    },
    {
      "cell_type": "code",
      "metadata": {
        "id": "O6lizsR_Jowy"
      },
      "source": [
        "def create_model_logistick(train, test):\n",
        "    from sklearn.model_selection import train_test_split\n",
        "    from sklearn.linear_model import LogisticRegression\n",
        "    from sklearn.preprocessing import StandardScaler\n",
        "    from sklearn import metrics\n",
        "    import matplotlib.pyplot as plt\n",
        "    import numpy as np\n",
        "    \n",
        "    # 不要カラム削除\n",
        "    X = train.drop('target', axis=1).fillna(0)\n",
        "    Y = train['target']\n",
        "\n",
        "\n",
        "    # 学習データ分割\n",
        "    X_train, X_test, Y_train, Y_test = train_test_split(X, Y, test_size=0.3, random_state = 0)\n",
        "\n",
        "    clf = LogisticRegression() # ロジスティック回帰モデルのインスタンスを作成\n",
        "    clf.fit(X_train, Y_train) # ロジスティック回帰モデルの重みを学習\n",
        "\n",
        "    clf_pred = clf.predict(test)\n",
        "    \n",
        "    #評価の実行（正答率）\n",
        "    print(round(clf.score(X_test,Y_test),3))\n",
        "\n",
        "    coeff_df = pd.DataFrame([X.columns, clf.coef_[0]]).T\n",
        "    coeff_df.columns = [\"col_name\",\"係数\"]\n",
        "    coeff_df[\"abs\"] = [abs(i) for i in coeff_df[\"係数\"]]\n",
        "    coeff_df = coeff_df.sort_values(\"abs\", ascending=False).drop(\"abs\",axis=1)\n",
        "\n",
        "    predict_y = clf.predict(X_test)\n",
        "    predict = clf.predict_proba(X_test)[:,1]\n",
        "\n",
        "    # FPR, TPR(, しきい値) を算出 roc_curve(test_y(0,1), predict_y(0.5,0.8,1.0....))\n",
        "    fpr, tpr, thresholds = metrics.roc_curve(Y_test, predict_y)\n",
        "\n",
        "    # AUC\n",
        "    auc = metrics.auc(fpr, tpr)\n",
        "\n",
        "    # ROC曲線をプロット\n",
        "    plt.plot(fpr, tpr, label='ROC curve (area = %.2f)'%auc)\n",
        "    plt.legend()\n",
        "    plt.title('ROC curve')\n",
        "    plt.xlabel('False Positive Rate')\n",
        "    plt.ylabel('True Positive Rate')\n",
        "    plt.grid(True)    \n",
        "    #plt.savefig(str(OUT_DIR) + \"/\"+ 'sklearn_roc_curve_' + \"書類選考\" + '.png')\n",
        "    \n",
        "    \n",
        "    print(\"正答率:\", round(metrics.accuracy_score(Y_test, predict_y),3)) # TP + TN / (TP + TN + FP + FN) \n",
        "    print(\"適合率:\", round(metrics.precision_score(Y_test, predict_y),3))# TP  / (TP + FP) 偽陽性を避けたい（抑えたい）場合の指標\n",
        "    print(\"再現率:\", round(metrics.recall_score(Y_test, predict_y),3))   # TP  / (TP + FN) 偽陰性を避けたい（抑えたい）場合の指標\n",
        "    print(\"F値  :\", round(metrics.f1_score(Y_test, predict_y),3))       # 2 * TP  / (2*TP + FP + FN )\n",
        "    \n",
        "    \n",
        "    # 係数確認\n",
        "    print(coeff_df)\n",
        "    \n",
        "    return clf_pred"
      ],
      "execution_count": null,
      "outputs": []
    },
    {
      "cell_type": "code",
      "metadata": {
        "id": "S4u6bKnQJowy",
        "outputId": "00af8984-6900-408b-da66-148d30a78839"
      },
      "source": [
        "tst = create_model_logistick(train_data[col_list2], test[col_list])"
      ],
      "execution_count": null,
      "outputs": [
        {
          "output_type": "stream",
          "text": [
            "0.557\n",
            "正答率: 0.557\n",
            "適合率: 0.0\n",
            "再現率: 0.0\n",
            "F値  : 0.0\n",
            "                         col_name           係数\n",
            "42                 busicr_capital -2.32841e-13\n",
            "34            client_employee_num -3.43192e-17\n",
            "43                     annualincm -8.71443e-18\n",
            "41            busicr_employee_num -4.47962e-18\n",
            "20                  maxannualincm -2.83174e-18\n",
            "19                  minannualincm -1.59996e-18\n",
            "6        current_annualincome_num -1.09088e-18\n",
            "14              currentsalary_num  -8.5074e-19\n",
            "15                 wishsalary_num -8.39883e-19\n",
            "16              minwishsalary_num -7.15939e-19\n",
            "3              wishannualincm_num -4.76804e-19\n",
            "4           minwishannualincm_num -4.51808e-19\n",
            "44                          toeic -2.52496e-19\n",
            "52                       prog_age -1.06351e-19\n",
            "23                         maxage  -6.9707e-20\n",
            "22                         minage -5.58883e-20\n",
            "38              retirementage_num -4.59326e-20\n",
            "8                      year_bonus -4.12296e-20\n",
            "29                     maxbasepay -3.19535e-20\n",
            "28                     minbasepay -1.92478e-20\n",
            "18                      emply_num  1.69905e-20\n",
            "7        monthly_annualincome_num -1.50448e-20\n",
            "2                     expcomp_num -7.18451e-21\n",
            "31           fixedovertimefee_flg -6.18715e-21\n",
            "45                          toefl -5.21461e-21\n",
            "27                   overtime_flg -3.34754e-21\n",
            "21                       modelage -3.28394e-21\n",
            "13                     mypage_flg  -3.1997e-21\n",
            "0                         sex_flg -3.01292e-21\n",
            "9                 allowance_num_1 -2.83679e-21\n",
            "57                   match_wkarea -2.39407e-21\n",
            "58                 match_ocupctg1 -2.19113e-21\n",
            "30                    payrise_flg -2.03512e-21\n",
            "37               client_focus_flg -1.37907e-21\n",
            "56                     match_pref -1.37062e-21\n",
            "59                 match_ocupctg2 -1.32979e-21\n",
            "24                        age_flg -1.17848e-21\n",
            "25               careerchange_num -1.12712e-21\n",
            "54             match_annualincome -1.01073e-21\n",
            "1                     walkbus_flg -8.92101e-22\n",
            "60                 match_ocupctg3 -7.45684e-22\n",
            "53                      match_age -6.77308e-22\n",
            "55                   match_salary -6.44316e-22\n",
            "26               oreder_focus_flg  5.70097e-22\n",
            "39                   is_march_flg  3.95389e-22\n",
            "10                allowance_num_2 -2.45175e-22\n",
            "47          to_exchange_email_flg -2.14837e-22\n",
            "46                doc_reading_flg -2.05143e-22\n",
            "5                       check_flg -1.75571e-22\n",
            "48           tel_conversation_flg -9.98518e-23\n",
            "49          conference_in_eng_flg -8.98465e-23\n",
            "50  busi_talk_and_nego_in_eng_flg -5.02021e-23\n",
            "40           busicr_frigncptl_flg -4.65974e-23\n",
            "51                stay_abroad_flg -4.63017e-23\n",
            "35           client_frigncptl_flg  1.97028e-23\n",
            "12                allowance_num_4 -8.32119e-24\n",
            "11                allowance_num_3  1.94276e-24\n",
            "17               disabilities_flg -8.32119e-25\n",
            "32                    salesamount            0\n",
            "36                    venture_flg            0\n",
            "33                 ordinaryprofit            0\n"
          ],
          "name": "stdout"
        },
        {
          "output_type": "stream",
          "text": [
            "/Users/s1190852/.local/share/virtualenvs/Referral_business-mE8dB_a_/lib/python3.8/site-packages/sklearn/metrics/_classification.py:1221: UndefinedMetricWarning: Precision is ill-defined and being set to 0.0 due to no predicted samples. Use `zero_division` parameter to control this behavior.\n",
            "  _warn_prf(average, modifier, msg_start, len(result))\n"
          ],
          "name": "stderr"
        },
        {
          "output_type": "display_data",
          "data": {
            "image/png": "[encoded data removed]",
            "text/plain": [
              "<Figure size 432x288 with 1 Axes>"
            ]
          },
          "metadata": {
            "tags": [],
            "needs_background": "light"
          }
        }
      ]
    },
    {
      "cell_type": "code",
      "metadata": {
        "id": "_6MZjWThJowy"
      },
      "source": [
        ""
      ],
      "execution_count": null,
      "outputs": []
    },
    {
      "cell_type": "code",
      "metadata": {
        "id": "9OQGkDpfJowy"
      },
      "source": [
        ""
      ],
      "execution_count": null,
      "outputs": []
    }
  ]
}